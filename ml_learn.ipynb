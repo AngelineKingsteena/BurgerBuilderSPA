{
  "nbformat": 4,
  "nbformat_minor": 0,
  "metadata": {
    "colab": {
      "name": "ml learn",
      "provenance": [],
      "authorship_tag": "ABX9TyN8ccjH2xxjIhnihf/xLWDu",
      "include_colab_link": true
    },
    "kernelspec": {
      "name": "python3",
      "display_name": "Python 3"
    }
  },
  "cells": [
    {
      "cell_type": "markdown",
      "metadata": {
        "id": "view-in-github",
        "colab_type": "text"
      },
      "source": [
        "<a href=\"https://colab.research.google.com/github/AngelineKingsteena/BurgerBuilderSPA/blob/master/ml_learn.ipynb\" target=\"_parent\"><img src=\"https://colab.research.google.com/assets/colab-badge.svg\" alt=\"Open In Colab\"/></a>"
      ]
    },
    {
      "cell_type": "markdown",
      "metadata": {
        "id": "gtGJjMyejpRE",
        "colab_type": "text"
      },
      "source": [
        "# integrate jupyter notebook with google drive through google collaboratory to save in git directly\n",
        "\n",
        "https://datascience.foundation/datatalk/setting-up-a-python-jupyter-notebook-online-working-with-python-on-the-cloud"
      ]
    },
    {
      "cell_type": "markdown",
      "metadata": {
        "id": "G9nsBirCjnP4",
        "colab_type": "text"
      },
      "source": [
        "# I) Getting the dataset"
      ]
    },
    {
      "cell_type": "markdown",
      "metadata": {
        "id": "AldfAgpGkAR0",
        "colab_type": "text"
      },
      "source": [
        ""
      ]
    }
  ]
}